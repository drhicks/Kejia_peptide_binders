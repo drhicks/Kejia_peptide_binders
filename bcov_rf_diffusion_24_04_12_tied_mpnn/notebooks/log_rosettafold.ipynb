{
 "cells": [
  {
   "cell_type": "code",
   "execution_count": 1,
   "id": "4af3a322-7c75-4a4e-a779-e8ee5c69b12e",
   "metadata": {},
   "outputs": [
    {
     "name": "stdout",
     "output_type": "stream",
     "text": [
      "/mnt/home/ahern/projects/rf_diffusion\n"
     ]
    }
   ],
   "source": [
    "cd .."
   ]
  },
  {
   "cell_type": "code",
   "execution_count": 2,
   "id": "bdb64615-c1d8-44eb-af87-dfce44824730",
   "metadata": {},
   "outputs": [
    {
     "name": "stderr",
     "output_type": "stream",
     "text": [
      "[18:11:11] /opt/dgl/src/runtime/tensordispatch.cc:43: TensorDispatcher: dlopen failed: /home/ahern/.conda/envs/woody-SE3-nvidia/lib/python3.8/site-packages/dgl/tensoradapter/pytorch/libtensoradapter_pytorch_1.10.1.so: cannot open shared object file: No such file or directory\n",
      "Using backend: pytorch\n"
     ]
    }
   ],
   "source": [
    "%load_ext autoreload\n",
    "%autoreload 2\n",
    "\n",
    "import glob\n",
    "import os\n",
    "import sys\n",
    "from itertools import *\n",
    "from collections import defaultdict\n",
    "import torch\n",
    "import re\n",
    "from inference import utils as iu\n",
    "import diffusion\n",
    "import hydra\n",
    "from hydra import compose, initialize\n",
    "from inference import model_runners\n",
    "import util\n",
    "from icecream import ic\n",
    "import matplotlib.pyplot as plt\n",
    "import tqdm\n",
    "import estimate_likelihood as el\n",
    "from dataclasses import astuple\n",
    "import pickle\n",
    "import seaborn as sns\n",
    "import pandas as pd"
   ]
  },
  {
   "cell_type": "code",
   "execution_count": 3,
   "id": "cd76fd02-2256-4774-bb02-4341cf8e8ecd",
   "metadata": {},
   "outputs": [],
   "source": [
    "def get_rf_df(pickle_dir):\n",
    "\n",
    "    pickle_dirs = sorted(glob.glob(os.path.join(pickle_dir, '*')))\n",
    "    last_pickle_dir = pickle_dirs[-1]\n",
    "    pickles = sorted(glob.glob(os.path.join(last_pickle_dir, '*')))\n",
    "\n",
    "    len(pickles)\n",
    "\n",
    "    args_arr = []\n",
    "    for p in tqdm.tqdm(pickles):\n",
    "        with open(p, 'rb') as fh:\n",
    "            args_arr.append(pickle.load(fh))\n",
    "\n",
    "\n",
    "\n",
    "    df = pd.DataFrame(args_arr)\n",
    "    df.t = df.t.apply(lambda x: x.item())\n",
    "\n",
    "    return df"
   ]
  },
  {
   "cell_type": "code",
   "execution_count": 4,
   "id": "12b1902c-32d4-4b38-aa20-c2e9d6de7eb7",
   "metadata": {},
   "outputs": [],
   "source": [
    "def filter_training(df):\n",
    "    df['stack_str'] = df.apply(lambda r: '\\n'.join(r.stack[-3:]), axis=1)\n",
    "\n",
    "    # for i in df['stack'][:1]:\n",
    "    #     print('\\n'.join(i[:3]))\n",
    "    #     print('------------------------')\n",
    "\n",
    "    # callsite_counts = df.stack_str.value_counts()\n",
    "    # most_called=sorted(dict(callsite_counts).items(), key= lambda i: i[1])[-1]\n",
    "    # most_called_callsite=most_called[0]\n",
    "\n",
    "    def in_train_cycle(stack):\n",
    "        for frame in stack[::-1]:\n",
    "            if 'train_cycle' in frame:\n",
    "                return True\n",
    "        return False\n",
    "\n",
    "    return df[df['stack'].apply(in_train_cycle)]"
   ]
  },
  {
   "cell_type": "code",
   "execution_count": 5,
   "id": "6b7db525-9a16-4958-9751-2fe4232d87f4",
   "metadata": {},
   "outputs": [],
   "source": [
    "def filter_i_cycle(df, i_cycle):\n",
    "    return df[df.i_cycle == 0]"
   ]
  },
  {
   "cell_type": "code",
   "execution_count": 7,
   "id": "b374620b-6246-4f53-8808-19ceb9501f34",
   "metadata": {},
   "outputs": [
    {
     "name": "stderr",
     "output_type": "stream",
     "text": [
      "100%|█████████████████████████████████████████████████████████████████████████████████████| 4000/4000 [00:09<00:00, 408.95it/s]\n"
     ]
    },
    {
     "data": {
      "text/plain": [
       "4000"
      ]
     },
     "execution_count": 7,
     "metadata": {},
     "output_type": "execute_result"
    }
   ],
   "source": [
    "df_infer = get_rf_df('/home/ahern/projects/rf_diffusion/pickled_inputs/inference')\n",
    "len(df_infer)"
   ]
  },
  {
   "cell_type": "code",
   "execution_count": 9,
   "id": "e84310dd-482f-469c-b30e-0ee9462ce6fc",
   "metadata": {},
   "outputs": [
    {
     "name": "stderr",
     "output_type": "stream",
     "text": [
      "100%|█████████████████████████████████████████████████████████████████████████████████████| 1675/1675 [00:07<00:00, 224.09it/s]\n"
     ]
    },
    {
     "data": {
      "text/plain": [
       "661"
      ]
     },
     "execution_count": 9,
     "metadata": {},
     "output_type": "execute_result"
    }
   ],
   "source": [
    "df_train = get_rf_df('/home/ahern/projects/rf_diffusion/pickled_inputs/training')\n",
    "df_train = filter_training(df_train)\n",
    "df_train = filter_i_cycle(df_train, 0)\n",
    "len(df_train)"
   ]
  },
  {
   "cell_type": "code",
   "execution_count": 10,
   "id": "7ccf5afb-07f8-41f5-887c-80c3dbe00159",
   "metadata": {},
   "outputs": [],
   "source": [
    "df_infer['source'] = 'inference'\n",
    "df_train['source'] = 'training'\n",
    "df = df_infer.append(df_train, ignore_index=True)"
   ]
  },
  {
   "cell_type": "code",
   "execution_count": 11,
   "id": "50ab662f-acc3-4402-b31d-9ec84ead7d00",
   "metadata": {},
   "outputs": [
    {
     "data": {
      "text/plain": [
       "4661"
      ]
     },
     "execution_count": 11,
     "metadata": {},
     "output_type": "execute_result"
    }
   ],
   "source": [
    "len(df)"
   ]
  },
  {
   "cell_type": "code",
   "execution_count": 12,
   "id": "67276e03-dcb2-4153-a42e-0428a8969597",
   "metadata": {},
   "outputs": [],
   "source": [
    "def fraction_sequence_masked(row):\n",
    "    _, L, _ = row.seq.shape\n",
    "    return (row.seq[0,:,21].sum() / L).item()"
   ]
  },
  {
   "cell_type": "code",
   "execution_count": 13,
   "id": "b4b91b5c-b8b1-499b-9a88-5e555b4d551d",
   "metadata": {},
   "outputs": [],
   "source": [
    "def compute_distribution(df, metric, over='t', metric_name=None):\n",
    "    #apply_kwargs = apply_kwargs or {}\n",
    "    metric_name = metric_name or metric.__name__\n",
    "    df[metric_name] = df.apply(metric, axis=1)\n",
    "    # df[metric_name] = df[fraction_sequence_masked.__name__].apply(lambda x: x.item())\n",
    "    # overs = df[over]\n",
    "    # return overs, vals"
   ]
  },
  {
   "cell_type": "code",
   "execution_count": 14,
   "id": "2ac5e672-c3e8-4eb5-8a0e-4222c937c143",
   "metadata": {},
   "outputs": [],
   "source": [
    "def compare(df, metric):\n",
    "    compute_distribution(df, metric)\n",
    "    sns.relplot(data=df, x='t', hue='source', y=metric.__name__, kind=\"line\")"
   ]
  },
  {
   "cell_type": "code",
   "execution_count": 15,
   "id": "3c8b033a-620d-4e19-92ff-d6fdfe9a91f1",
   "metadata": {},
   "outputs": [
    {
     "data": {
      "image/png": "[encoded data removed]",
      "text/plain": [
       "<Figure size 443x360 with 1 Axes>"
      ]
     },
     "metadata": {
      "needs_background": "light"
     },
     "output_type": "display_data"
    }
   ],
   "source": [
    "compare(df, fraction_sequence_masked)"
   ]
  },
  {
   "cell_type": "code",
   "execution_count": 16,
   "id": "084748f5-c895-4209-a44f-5b493cabead1",
   "metadata": {},
   "outputs": [],
   "source": [
    "def template_confidence(row):\n",
    "    return row.t1d[0,0,:,21].mean().item()"
   ]
  },
  {
   "cell_type": "code",
   "execution_count": 17,
   "id": "d00ddee5-5668-4ea5-a686-f26327b4d5c5",
   "metadata": {},
   "outputs": [
    {
     "data": {
      "image/png": "[encoded data removed]",
      "text/plain": [
       "<Figure size 443x360 with 1 Axes>"
      ]
     },
     "metadata": {
      "needs_background": "light"
     },
     "output_type": "display_data"
    }
   ],
   "source": [
    "compare(df, template_confidence)"
   ]
  },
  {
   "cell_type": "code",
   "execution_count": 18,
   "id": "96cc8b50-03fb-491a-b847-1e36bbce0460",
   "metadata": {},
   "outputs": [],
   "source": [
    "def xyz_xyz_t_match(row):\n",
    "    return (row.xyz[0,:,:3] == row.xyz_t[0,0,:,:3]).float().mean().item()"
   ]
  },
  {
   "cell_type": "code",
   "execution_count": 19,
   "id": "96b75b63-d0cf-494e-9488-267f416715a8",
   "metadata": {},
   "outputs": [
    {
     "data": {
      "image/png": "[encoded data removed]",
      "text/plain": [
       "<Figure size 443x360 with 1 Axes>"
      ]
     },
     "metadata": {
      "needs_background": "light"
     },
     "output_type": "display_data"
    }
   ],
   "source": [
    "compare(df, xyz_xyz_t_match)"
   ]
  },
  {
   "cell_type": "code",
   "execution_count": 20,
   "id": "f2b9653c-747e-4392-a5bb-fdd3e083b801",
   "metadata": {},
   "outputs": [],
   "source": [
    "example_row = df.iloc[0]"
   ]
  },
  {
   "cell_type": "code",
   "execution_count": 21,
   "id": "f4dfc281-5bfa-4d37-b71f-68a407245931",
   "metadata": {},
   "outputs": [],
   "source": [
    "example_train_row = df_train.iloc[0]"
   ]
  },
  {
   "cell_type": "code",
   "execution_count": null,
   "id": "16896b53-bd0e-474d-bb70-9b0aff7f55fd",
   "metadata": {},
   "outputs": [],
   "source": []
  },
  {
   "cell_type": "code",
   "execution_count": null,
   "id": "14230acd-e183-4767-81f6-3e7f02ec4ca2",
   "metadata": {},
   "outputs": [],
   "source": []
  }
 ],
 "metadata": {
  "kernelspec": {
   "display_name": "woody-SE3-nvidia",
   "language": "python",
   "name": "woody-se3-nvidia"
  },
  "language_info": {
   "codemirror_mode": {
    "name": "ipython",
    "version": 3
   },
   "file_extension": ".py",
   "mimetype": "text/x-python",
   "name": "python",
   "nbconvert_exporter": "python",
   "pygments_lexer": "ipython3",
   "version": "3.8.2"
  }
 },
 "nbformat": 4,
 "nbformat_minor": 5
}
